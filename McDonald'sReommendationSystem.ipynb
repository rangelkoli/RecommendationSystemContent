{
  "nbformat": 4,
  "nbformat_minor": 0,
  "metadata": {
    "colab": {
      "provenance": []
    },
    "kernelspec": {
      "name": "python3",
      "display_name": "Python 3"
    },
    "language_info": {
      "name": "python"
    }
  },
  "cells": [
    {
      "cell_type": "markdown",
      "source": [
        "# **Recommendation System for McDonalds Menu Dataset**\n",
        "\n",
        "***Content Based Recommendation system***"
      ],
      "metadata": {
        "id": "ys8GCZBoBxif"
      }
    },
    {
      "cell_type": "markdown",
      "source": [
        "Import all the necessary Modules, import the dataset and drop all duplicates and empty fields"
      ],
      "metadata": {
        "id": "4YbhMkg4BiYs"
      }
    },
    {
      "cell_type": "code",
      "execution_count": 15,
      "metadata": {
        "id": "5ikXzmRQoVtG"
      },
      "outputs": [],
      "source": [
        "import pandas as pd\n",
        "from sklearn.preprocessing import MinMaxScaler\n",
        "from sklearn.preprocessing import LabelEncoder\n",
        "from sklearn.metrics.pairwise import cosine_similarity"
      ]
    },
    {
      "cell_type": "code",
      "source": [
        "df = pd.read_csv('menu.csv')\n",
        "df.drop_duplicates(inplace=True)\n",
        "df.dropna(inplace=True)"
      ],
      "metadata": {
        "id": "pgPEUPBoCUEO"
      },
      "execution_count": 16,
      "outputs": []
    },
    {
      "cell_type": "code",
      "source": [
        "\n",
        "df[['Category','Serving Size','Calories', 'Calories from Fat', 'Total Fat', 'Saturated Fat', 'Trans Fat', 'Cholesterol', 'Sodium', 'Carbohydrates', 'Dietary Fiber','Sugars', 'Protein']]"
      ],
      "metadata": {
        "colab": {
          "base_uri": "https://localhost:8080/",
          "height": 658
        },
        "id": "Simb91sVorCq",
        "outputId": "76477036-ad2d-4c40-cf3e-e8feef3459ee"
      },
      "execution_count": 17,
      "outputs": [
        {
          "output_type": "execute_result",
          "data": {
            "text/plain": [
              "               Category     Serving Size  Calories  Calories from Fat  \\\n",
              "0             Breakfast   4.8 oz (136 g)       300                120   \n",
              "1             Breakfast   4.8 oz (135 g)       250                 70   \n",
              "2             Breakfast   3.9 oz (111 g)       370                200   \n",
              "3             Breakfast   5.7 oz (161 g)       450                250   \n",
              "4             Breakfast   5.7 oz (161 g)       400                210   \n",
              "..                  ...              ...       ...                ...   \n",
              "255  Smoothies & Shakes  10.1 oz (285 g)       510                150   \n",
              "256  Smoothies & Shakes  13.4 oz (381 g)       690                200   \n",
              "257  Smoothies & Shakes   6.7 oz (190 g)       340                100   \n",
              "258  Smoothies & Shakes  14.2 oz (403 g)       810                290   \n",
              "259  Smoothies & Shakes   7.1 oz (202 g)       410                150   \n",
              "\n",
              "     Total Fat  Saturated Fat  Trans Fat  Cholesterol  Sodium  Carbohydrates  \\\n",
              "0         13.0            5.0        0.0          260     750             31   \n",
              "1          8.0            3.0        0.0           25     770             30   \n",
              "2         23.0            8.0        0.0           45     780             29   \n",
              "3         28.0           10.0        0.0          285     860             30   \n",
              "4         23.0            8.0        0.0           50     880             30   \n",
              "..         ...            ...        ...          ...     ...            ...   \n",
              "255       17.0            9.0        0.5           45     280             80   \n",
              "256       23.0           12.0        1.0           55     380            106   \n",
              "257       11.0            6.0        0.0           30     190             53   \n",
              "258       32.0           15.0        1.0           60     400            114   \n",
              "259       16.0            8.0        0.0           30     200             57   \n",
              "\n",
              "     Dietary Fiber  Sugars  Protein  \n",
              "0                4       3       17  \n",
              "1                4       3       18  \n",
              "2                4       2       14  \n",
              "3                4       2       21  \n",
              "4                4       2       21  \n",
              "..             ...     ...      ...  \n",
              "255              1      64       12  \n",
              "256              1      85       15  \n",
              "257              1      43        8  \n",
              "258              2     103       21  \n",
              "259              1      51       10  \n",
              "\n",
              "[260 rows x 13 columns]"
            ],
            "text/html": [
              "\n",
              "  <div id=\"df-35471d92-f607-4c32-a039-619bee393dde\">\n",
              "    <div class=\"colab-df-container\">\n",
              "      <div>\n",
              "<style scoped>\n",
              "    .dataframe tbody tr th:only-of-type {\n",
              "        vertical-align: middle;\n",
              "    }\n",
              "\n",
              "    .dataframe tbody tr th {\n",
              "        vertical-align: top;\n",
              "    }\n",
              "\n",
              "    .dataframe thead th {\n",
              "        text-align: right;\n",
              "    }\n",
              "</style>\n",
              "<table border=\"1\" class=\"dataframe\">\n",
              "  <thead>\n",
              "    <tr style=\"text-align: right;\">\n",
              "      <th></th>\n",
              "      <th>Category</th>\n",
              "      <th>Serving Size</th>\n",
              "      <th>Calories</th>\n",
              "      <th>Calories from Fat</th>\n",
              "      <th>Total Fat</th>\n",
              "      <th>Saturated Fat</th>\n",
              "      <th>Trans Fat</th>\n",
              "      <th>Cholesterol</th>\n",
              "      <th>Sodium</th>\n",
              "      <th>Carbohydrates</th>\n",
              "      <th>Dietary Fiber</th>\n",
              "      <th>Sugars</th>\n",
              "      <th>Protein</th>\n",
              "    </tr>\n",
              "  </thead>\n",
              "  <tbody>\n",
              "    <tr>\n",
              "      <th>0</th>\n",
              "      <td>Breakfast</td>\n",
              "      <td>4.8 oz (136 g)</td>\n",
              "      <td>300</td>\n",
              "      <td>120</td>\n",
              "      <td>13.0</td>\n",
              "      <td>5.0</td>\n",
              "      <td>0.0</td>\n",
              "      <td>260</td>\n",
              "      <td>750</td>\n",
              "      <td>31</td>\n",
              "      <td>4</td>\n",
              "      <td>3</td>\n",
              "      <td>17</td>\n",
              "    </tr>\n",
              "    <tr>\n",
              "      <th>1</th>\n",
              "      <td>Breakfast</td>\n",
              "      <td>4.8 oz (135 g)</td>\n",
              "      <td>250</td>\n",
              "      <td>70</td>\n",
              "      <td>8.0</td>\n",
              "      <td>3.0</td>\n",
              "      <td>0.0</td>\n",
              "      <td>25</td>\n",
              "      <td>770</td>\n",
              "      <td>30</td>\n",
              "      <td>4</td>\n",
              "      <td>3</td>\n",
              "      <td>18</td>\n",
              "    </tr>\n",
              "    <tr>\n",
              "      <th>2</th>\n",
              "      <td>Breakfast</td>\n",
              "      <td>3.9 oz (111 g)</td>\n",
              "      <td>370</td>\n",
              "      <td>200</td>\n",
              "      <td>23.0</td>\n",
              "      <td>8.0</td>\n",
              "      <td>0.0</td>\n",
              "      <td>45</td>\n",
              "      <td>780</td>\n",
              "      <td>29</td>\n",
              "      <td>4</td>\n",
              "      <td>2</td>\n",
              "      <td>14</td>\n",
              "    </tr>\n",
              "    <tr>\n",
              "      <th>3</th>\n",
              "      <td>Breakfast</td>\n",
              "      <td>5.7 oz (161 g)</td>\n",
              "      <td>450</td>\n",
              "      <td>250</td>\n",
              "      <td>28.0</td>\n",
              "      <td>10.0</td>\n",
              "      <td>0.0</td>\n",
              "      <td>285</td>\n",
              "      <td>860</td>\n",
              "      <td>30</td>\n",
              "      <td>4</td>\n",
              "      <td>2</td>\n",
              "      <td>21</td>\n",
              "    </tr>\n",
              "    <tr>\n",
              "      <th>4</th>\n",
              "      <td>Breakfast</td>\n",
              "      <td>5.7 oz (161 g)</td>\n",
              "      <td>400</td>\n",
              "      <td>210</td>\n",
              "      <td>23.0</td>\n",
              "      <td>8.0</td>\n",
              "      <td>0.0</td>\n",
              "      <td>50</td>\n",
              "      <td>880</td>\n",
              "      <td>30</td>\n",
              "      <td>4</td>\n",
              "      <td>2</td>\n",
              "      <td>21</td>\n",
              "    </tr>\n",
              "    <tr>\n",
              "      <th>...</th>\n",
              "      <td>...</td>\n",
              "      <td>...</td>\n",
              "      <td>...</td>\n",
              "      <td>...</td>\n",
              "      <td>...</td>\n",
              "      <td>...</td>\n",
              "      <td>...</td>\n",
              "      <td>...</td>\n",
              "      <td>...</td>\n",
              "      <td>...</td>\n",
              "      <td>...</td>\n",
              "      <td>...</td>\n",
              "      <td>...</td>\n",
              "    </tr>\n",
              "    <tr>\n",
              "      <th>255</th>\n",
              "      <td>Smoothies &amp; Shakes</td>\n",
              "      <td>10.1 oz (285 g)</td>\n",
              "      <td>510</td>\n",
              "      <td>150</td>\n",
              "      <td>17.0</td>\n",
              "      <td>9.0</td>\n",
              "      <td>0.5</td>\n",
              "      <td>45</td>\n",
              "      <td>280</td>\n",
              "      <td>80</td>\n",
              "      <td>1</td>\n",
              "      <td>64</td>\n",
              "      <td>12</td>\n",
              "    </tr>\n",
              "    <tr>\n",
              "      <th>256</th>\n",
              "      <td>Smoothies &amp; Shakes</td>\n",
              "      <td>13.4 oz (381 g)</td>\n",
              "      <td>690</td>\n",
              "      <td>200</td>\n",
              "      <td>23.0</td>\n",
              "      <td>12.0</td>\n",
              "      <td>1.0</td>\n",
              "      <td>55</td>\n",
              "      <td>380</td>\n",
              "      <td>106</td>\n",
              "      <td>1</td>\n",
              "      <td>85</td>\n",
              "      <td>15</td>\n",
              "    </tr>\n",
              "    <tr>\n",
              "      <th>257</th>\n",
              "      <td>Smoothies &amp; Shakes</td>\n",
              "      <td>6.7 oz (190 g)</td>\n",
              "      <td>340</td>\n",
              "      <td>100</td>\n",
              "      <td>11.0</td>\n",
              "      <td>6.0</td>\n",
              "      <td>0.0</td>\n",
              "      <td>30</td>\n",
              "      <td>190</td>\n",
              "      <td>53</td>\n",
              "      <td>1</td>\n",
              "      <td>43</td>\n",
              "      <td>8</td>\n",
              "    </tr>\n",
              "    <tr>\n",
              "      <th>258</th>\n",
              "      <td>Smoothies &amp; Shakes</td>\n",
              "      <td>14.2 oz (403 g)</td>\n",
              "      <td>810</td>\n",
              "      <td>290</td>\n",
              "      <td>32.0</td>\n",
              "      <td>15.0</td>\n",
              "      <td>1.0</td>\n",
              "      <td>60</td>\n",
              "      <td>400</td>\n",
              "      <td>114</td>\n",
              "      <td>2</td>\n",
              "      <td>103</td>\n",
              "      <td>21</td>\n",
              "    </tr>\n",
              "    <tr>\n",
              "      <th>259</th>\n",
              "      <td>Smoothies &amp; Shakes</td>\n",
              "      <td>7.1 oz (202 g)</td>\n",
              "      <td>410</td>\n",
              "      <td>150</td>\n",
              "      <td>16.0</td>\n",
              "      <td>8.0</td>\n",
              "      <td>0.0</td>\n",
              "      <td>30</td>\n",
              "      <td>200</td>\n",
              "      <td>57</td>\n",
              "      <td>1</td>\n",
              "      <td>51</td>\n",
              "      <td>10</td>\n",
              "    </tr>\n",
              "  </tbody>\n",
              "</table>\n",
              "<p>260 rows × 13 columns</p>\n",
              "</div>\n",
              "      <button class=\"colab-df-convert\" onclick=\"convertToInteractive('df-35471d92-f607-4c32-a039-619bee393dde')\"\n",
              "              title=\"Convert this dataframe to an interactive table.\"\n",
              "              style=\"display:none;\">\n",
              "        \n",
              "  <svg xmlns=\"http://www.w3.org/2000/svg\" height=\"24px\"viewBox=\"0 0 24 24\"\n",
              "       width=\"24px\">\n",
              "    <path d=\"M0 0h24v24H0V0z\" fill=\"none\"/>\n",
              "    <path d=\"M18.56 5.44l.94 2.06.94-2.06 2.06-.94-2.06-.94-.94-2.06-.94 2.06-2.06.94zm-11 1L8.5 8.5l.94-2.06 2.06-.94-2.06-.94L8.5 2.5l-.94 2.06-2.06.94zm10 10l.94 2.06.94-2.06 2.06-.94-2.06-.94-.94-2.06-.94 2.06-2.06.94z\"/><path d=\"M17.41 7.96l-1.37-1.37c-.4-.4-.92-.59-1.43-.59-.52 0-1.04.2-1.43.59L10.3 9.45l-7.72 7.72c-.78.78-.78 2.05 0 2.83L4 21.41c.39.39.9.59 1.41.59.51 0 1.02-.2 1.41-.59l7.78-7.78 2.81-2.81c.8-.78.8-2.07 0-2.86zM5.41 20L4 18.59l7.72-7.72 1.47 1.35L5.41 20z\"/>\n",
              "  </svg>\n",
              "      </button>\n",
              "      \n",
              "  <style>\n",
              "    .colab-df-container {\n",
              "      display:flex;\n",
              "      flex-wrap:wrap;\n",
              "      gap: 12px;\n",
              "    }\n",
              "\n",
              "    .colab-df-convert {\n",
              "      background-color: #E8F0FE;\n",
              "      border: none;\n",
              "      border-radius: 50%;\n",
              "      cursor: pointer;\n",
              "      display: none;\n",
              "      fill: #1967D2;\n",
              "      height: 32px;\n",
              "      padding: 0 0 0 0;\n",
              "      width: 32px;\n",
              "    }\n",
              "\n",
              "    .colab-df-convert:hover {\n",
              "      background-color: #E2EBFA;\n",
              "      box-shadow: 0px 1px 2px rgba(60, 64, 67, 0.3), 0px 1px 3px 1px rgba(60, 64, 67, 0.15);\n",
              "      fill: #174EA6;\n",
              "    }\n",
              "\n",
              "    [theme=dark] .colab-df-convert {\n",
              "      background-color: #3B4455;\n",
              "      fill: #D2E3FC;\n",
              "    }\n",
              "\n",
              "    [theme=dark] .colab-df-convert:hover {\n",
              "      background-color: #434B5C;\n",
              "      box-shadow: 0px 1px 3px 1px rgba(0, 0, 0, 0.15);\n",
              "      filter: drop-shadow(0px 1px 2px rgba(0, 0, 0, 0.3));\n",
              "      fill: #FFFFFF;\n",
              "    }\n",
              "  </style>\n",
              "\n",
              "      <script>\n",
              "        const buttonEl =\n",
              "          document.querySelector('#df-35471d92-f607-4c32-a039-619bee393dde button.colab-df-convert');\n",
              "        buttonEl.style.display =\n",
              "          google.colab.kernel.accessAllowed ? 'block' : 'none';\n",
              "\n",
              "        async function convertToInteractive(key) {\n",
              "          const element = document.querySelector('#df-35471d92-f607-4c32-a039-619bee393dde');\n",
              "          const dataTable =\n",
              "            await google.colab.kernel.invokeFunction('convertToInteractive',\n",
              "                                                     [key], {});\n",
              "          if (!dataTable) return;\n",
              "\n",
              "          const docLinkHtml = 'Like what you see? Visit the ' +\n",
              "            '<a target=\"_blank\" href=https://colab.research.google.com/notebooks/data_table.ipynb>data table notebook</a>'\n",
              "            + ' to learn more about interactive tables.';\n",
              "          element.innerHTML = '';\n",
              "          dataTable['output_type'] = 'display_data';\n",
              "          await google.colab.output.renderOutput(dataTable, element);\n",
              "          const docLink = document.createElement('div');\n",
              "          docLink.innerHTML = docLinkHtml;\n",
              "          element.appendChild(docLink);\n",
              "        }\n",
              "      </script>\n",
              "    </div>\n",
              "  </div>\n",
              "  "
            ]
          },
          "metadata": {},
          "execution_count": 17
        }
      ]
    },
    {
      "cell_type": "code",
      "source": [
        "# Create an instance of LabelEncoder\n",
        "le = LabelEncoder()\n",
        "\n",
        "# Encode the categorical column\n",
        "df['Category_encoded'] = le.fit_transform(df['Category'])\n",
        "\n",
        "# Print the mapping between labels and encoded values\n",
        "print(dict(zip(le.classes_, le.transform(le.classes_))))"
      ],
      "metadata": {
        "colab": {
          "base_uri": "https://localhost:8080/"
        },
        "id": "_LFxL2KSZZvz",
        "outputId": "0e34dbbe-1bf8-47c1-e9f7-684540261587"
      },
      "execution_count": 18,
      "outputs": [
        {
          "output_type": "stream",
          "name": "stdout",
          "text": [
            "{'Beef & Pork': 0, 'Beverages': 1, 'Breakfast': 2, 'Chicken & Fish': 3, 'Coffee & Tea': 4, 'Desserts': 5, 'Salads': 6, 'Smoothies & Shakes': 7, 'Snacks & Sides': 8}\n"
          ]
        }
      ]
    },
    {
      "cell_type": "code",
      "source": [
        "scaler = MinMaxScaler()\n",
        "c = scaler.fit_transform(df[['Category_encoded','Calories', 'Calories from Fat', 'Total Fat', 'Saturated Fat', 'Trans Fat', 'Cholesterol', 'Sodium', 'Carbohydrates', 'Dietary Fiber','Sugars', 'Protein']])"
      ],
      "metadata": {
        "id": "b33rskmUbwIh"
      },
      "execution_count": 19,
      "outputs": []
    },
    {
      "cell_type": "code",
      "source": [
        "print(c)"
      ],
      "metadata": {
        "colab": {
          "base_uri": "https://localhost:8080/"
        },
        "id": "Uc-f5oM1tGaM",
        "outputId": "5c7d4e33-fbea-4252-f18b-c15579c542c3"
      },
      "execution_count": 20,
      "outputs": [
        {
          "output_type": "stream",
          "name": "stdout",
          "text": [
            "[[0.25       0.15957447 0.11320755 ... 0.57142857 0.0234375  0.1954023 ]\n",
            " [0.25       0.13297872 0.06603774 ... 0.57142857 0.0234375  0.20689655]\n",
            " [0.25       0.19680851 0.18867925 ... 0.57142857 0.015625   0.16091954]\n",
            " ...\n",
            " [0.875      0.18085106 0.09433962 ... 0.14285714 0.3359375  0.09195402]\n",
            " [0.875      0.43085106 0.27358491 ... 0.28571429 0.8046875  0.24137931]\n",
            " [0.875      0.21808511 0.14150943 ... 0.14285714 0.3984375  0.11494253]]\n"
          ]
        }
      ]
    },
    {
      "cell_type": "code",
      "source": [
        "# similarity_matrix = cosine_similarity(df[['Category_encoded','Calories', 'Calories from Fat', 'Total Fat', 'Saturated Fat', 'Trans Fat', 'Cholesterol', 'Sodium', 'Carbohydrates', 'Dietary Fiber','Sugars', 'Protein']])\n",
        "similarity_matrix = cosine_similarity(c)\n"
      ],
      "metadata": {
        "id": "u5ui0528oud2"
      },
      "execution_count": 21,
      "outputs": []
    },
    {
      "cell_type": "code",
      "source": [
        "def get_similar_items(item_name, similarity_matrix):\n",
        "    if item_name not in df['Item'].values:\n",
        "        return []\n",
        "    item_index = df.index[df['Item'] == item_name][0]\n",
        "    similar_items = list(enumerate(similarity_matrix[item_index]))\n",
        "    sorted_items = sorted(similar_items, key=lambda x: x[1], reverse=True)\n",
        "    X = [df.iloc[i[0]]['Item'] for i in sorted_items[1:6]]\n",
        "    return X"
      ],
      "metadata": {
        "id": "UO3NOITHovzY"
      },
      "execution_count": 22,
      "outputs": []
    },
    {
      "cell_type": "code",
      "source": [
        "get_similar_items(\"McFlurry with Reese's Peanut Butter Cups (Snack)\", similarity_matrix)\n"
      ],
      "metadata": {
        "colab": {
          "base_uri": "https://localhost:8080/"
        },
        "id": "I5_g8P0roy1p",
        "outputId": "71d45b59-d12d-4fce-90fd-70b8a35ed6bf"
      },
      "execution_count": 24,
      "outputs": [
        {
          "output_type": "execute_result",
          "data": {
            "text/plain": [
              "['McFlurry with M&M’s Candies (Snack)',\n",
              " 'McFlurry with Oreo Cookies (Snack)',\n",
              " 'French Vanilla Latte (Small)',\n",
              " 'Caramel Latte (Small)',\n",
              " 'Hazelnut Latte (Small)']"
            ]
          },
          "metadata": {},
          "execution_count": 24
        }
      ]
    }
  ]
}